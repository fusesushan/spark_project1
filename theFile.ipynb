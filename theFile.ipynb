{
 "cells": [
  {
   "cell_type": "code",
   "execution_count": 1,
   "metadata": {},
   "outputs": [],
   "source": [
    "import findspark\n",
    "findspark.init()"
   ]
  },
  {
   "cell_type": "code",
   "execution_count": 2,
   "metadata": {},
   "outputs": [],
   "source": [
    "from pyspark.sql import SparkSession\n",
    "from pyspark.sql.functions import col, udf, round, max, avg, sum, array, count, dense_rank\n",
    "from pyspark.sql.functions import to_timestamp, date_format, from_utc_timestamp, hour, min, year, month\n",
    "from pyspark.sql.types import FloatType\n",
    "import requests\n",
    "from pyspark.sql.window import Window\n",
    "from haversine import haversine, Unit"
   ]
  },
  {
   "cell_type": "code",
   "execution_count": 3,
   "metadata": {},
   "outputs": [
    {
     "name": "stderr",
     "output_type": "stream",
     "text": [
      "your 131072x1 screen size is bogus. expect trouble\n",
      "23/09/06 11:35:15 WARN Utils: Your hostname, SUSHAN resolves to a loopback address: 127.0.1.1; using 172.31.68.109 instead (on interface eth0)\n",
      "23/09/06 11:35:15 WARN Utils: Set SPARK_LOCAL_IP if you need to bind to another address\n",
      "Setting default log level to \"WARN\".\n",
      "To adjust logging level use sc.setLogLevel(newLevel). For SparkR, use setLogLevel(newLevel).\n",
      "23/09/06 11:35:17 WARN NativeCodeLoader: Unable to load native-hadoop library for your platform... using builtin-java classes where applicable\n"
     ]
    }
   ],
   "source": [
    "spark = SparkSession.builder.appName(\"projectFirst\").getOrCreate()"
   ]
  },
  {
   "cell_type": "code",
   "execution_count": 4,
   "metadata": {},
   "outputs": [
    {
     "name": "stderr",
     "output_type": "stream",
     "text": [
      "                                                                                \r"
     ]
    }
   ],
   "source": [
    "fuel_prices_df = spark.read.parquet(\"data/cleaned_fuel_prices.parquet\")\n",
    "station_info_df = spark.read.parquet(\"data/cleaned_station_info.parquet\")"
   ]
  },
  {
   "cell_type": "code",
   "execution_count": 5,
   "metadata": {},
   "outputs": [],
   "source": [
    "def convert_to_euro(usd_price):\n",
    "    # API URL to fetch the exchange rate\n",
    "    api_url = \"https://cdn.jsdelivr.net/gh/fawazahmed0/currency-api@1/latest/currencies/usd/eur.json\"\n",
    "    \n",
    "    # Fetch exchange rate data from the API\n",
    "    response = requests.get(api_url)\n",
    "    exchange_rate_data = response.json()\n",
    "    \n",
    "    # Extract the exchange rate\n",
    "    exchange_rate = exchange_rate_data[\"eur\"]\n",
    "    \n",
    "    # Convert USD to Euro\n",
    "    euro_price = usd_price * exchange_rate\n",
    "    return euro_price\n"
   ]
  },
  {
   "cell_type": "code",
   "execution_count": 6,
   "metadata": {},
   "outputs": [
    {
     "name": "stdout",
     "output_type": "stream",
     "text": [
      "+-----+------+-----+-------------------+------------------+\n",
      "|   Id|isSelf|Price|               Date|Price_Euro_Rounded|\n",
      "+-----+------+-----+-------------------+------------------+\n",
      "| 5079|     1|1.809|2022-01-04 06:39:09|             1.676|\n",
      "|38752|     1|1.804|2022-01-04 07:18:19|             1.671|\n",
      "|51635|     0|1.974|2022-01-04 07:39:23|             1.828|\n",
      "| 6810|     0|2.009|2022-01-04 07:50:04|             1.861|\n",
      "| 4983|     0|1.758|2022-01-04 07:55:36|             1.628|\n",
      "|51790|     1|1.819|2022-01-04 08:50:47|             1.685|\n",
      "|42708|     0|2.064|2022-01-04 08:51:50|             1.912|\n",
      "|48545|     1|1.799|2022-01-04 09:26:35|             1.666|\n",
      "|46455|     0|1.954|2022-01-04 12:14:28|              1.81|\n",
      "|47555|     0|2.048|2022-01-04 12:58:37|             1.897|\n",
      "| 6711|     1|1.819|2022-01-04 13:15:06|             1.685|\n",
      "|31878|     1|1.784|2022-01-04 13:15:25|             1.652|\n",
      "|52822|     1|1.769|2022-01-04 13:19:01|             1.639|\n",
      "|51870|     0|2.054|2022-01-04 13:40:13|             1.903|\n",
      "|46259|     0|1.959|2022-01-04 13:46:46|             1.815|\n",
      "| 3598|     1|1.859|2022-01-04 14:08:03|             1.722|\n",
      "|37707|     1|1.669|2022-01-04 14:28:04|             1.546|\n",
      "|30753|     1|1.799|2022-01-04 14:42:39|             1.666|\n",
      "|46342|     0|1.954|2022-01-04 14:46:33|              1.81|\n",
      "| 9352|     1|1.698|2022-01-04 14:53:36|             1.573|\n",
      "+-----+------+-----+-------------------+------------------+\n",
      "only showing top 20 rows\n",
      "\n"
     ]
    },
    {
     "name": "stderr",
     "output_type": "stream",
     "text": [
      "                                                                                \r"
     ]
    }
   ],
   "source": [
    "# Apply the UDF to convert prices from USD to Euro\n",
    "fuel_prices_df = fuel_prices_df.withColumn(\"Price_Euro\", convert_to_euro(col(\"Price\")))\n",
    "# Round the Euro prices to three decimal units\n",
    "fuel_prices_df = fuel_prices_df.withColumn(\"Price_Euro_Rounded\", round(col(\"Price_Euro\"), 3))\n",
    "\n",
    "# Drop the \"Price_Euro\" column\n",
    "fuel_prices_df = fuel_prices_df.drop(\"Price_Euro\")\n",
    "\n",
    "# Show the updated DataFrame\n",
    "fuel_prices_df.show()"
   ]
  },
  {
   "cell_type": "code",
   "execution_count": 7,
   "metadata": {},
   "outputs": [
    {
     "name": "stdout",
     "output_type": "stream",
     "text": [
      "ID with Highest Price: 54771\n",
      "Maximum Average Price: 1.835294686861716\n"
     ]
    }
   ],
   "source": [
    "# Find the maximum price\n",
    "max_price = fuel_prices_df.agg(max(\"Price\")).collect()[0][0]\n",
    "\n",
    "# Find the ID with the highest price\n",
    "highest_price_id = fuel_prices_df.filter(col(\"Price\") == max_price).select(\"Id\").first()[0]\n",
    "\n",
    "# Order the data by price in descending order\n",
    "sorted_prices_df = fuel_prices_df.orderBy(col(\"Price\").desc())\n",
    "\n",
    "# Calculate the average price\n",
    "average_price = fuel_prices_df.agg(avg(\"Price\")).collect()[0][0]\n",
    "\n",
    "# Display the results\n",
    "print(\"ID with Highest Price:\", highest_price_id)\n",
    "print(\"Maximum Average Price:\", average_price)"
   ]
  },
  {
   "cell_type": "code",
   "execution_count": 8,
   "metadata": {},
   "outputs": [
    {
     "name": "stderr",
     "output_type": "stream",
     "text": [
      "23/09/06 11:35:51 WARN WindowExec: No Partition Defined for Window operation! Moving all data to a single partition, this can cause serious performance degradation.\n",
      "23/09/06 11:35:51 WARN WindowExec: No Partition Defined for Window operation! Moving all data to a single partition, this can cause serious performance degradation.\n",
      "23/09/06 11:35:51 WARN WindowExec: No Partition Defined for Window operation! Moving all data to a single partition, this can cause serious performance degradation.\n",
      "23/09/06 11:35:55 WARN WindowExec: No Partition Defined for Window operation! Moving all data to a single partition, this can cause serious performance degradation.\n",
      "23/09/06 11:35:55 WARN WindowExec: No Partition Defined for Window operation! Moving all data to a single partition, this can cause serious performance degradation.\n",
      "23/09/06 11:35:55 WARN WindowExec: No Partition Defined for Window operation! Moving all data to a single partition, this can cause serious performance degradation.\n"
     ]
    },
    {
     "name": "stdout",
     "output_type": "stream",
     "text": [
      "+-----------+-----------+----+\n",
      "|Day_of_Week|Sales_Count|Rank|\n",
      "+-----------+-----------+----+\n",
      "|        Mon|     410910|   1|\n",
      "|        Thu|     385288|   2|\n",
      "|        Wed|     375737|   3|\n",
      "|        Tue|     363014|   4|\n",
      "|        Fri|     362752|   5|\n",
      "|        Sat|     308091|   6|\n",
      "|        Sun|     238545|   7|\n",
      "+-----------+-----------+----+\n",
      "\n"
     ]
    },
    {
     "name": "stderr",
     "output_type": "stream",
     "text": [
      "                                                                                \r"
     ]
    }
   ],
   "source": [
    "fuel_prices_df = fuel_prices_df.withColumn(\"Day_of_Week\", date_format(col(\"Date\"), \"E\"))\n",
    "\n",
    "day_sales_df = fuel_prices_df.groupBy(\"Day_of_Week\").agg(count(\"*\").alias(\"Sales_Count\"))\n",
    "\n",
    "# Order the data by sales count in descending order to rank the days\n",
    "window_spec = Window.orderBy(col(\"Sales_Count\").desc())\n",
    "day_sales_ranked_df = day_sales_df.withColumn(\"Rank\", dense_rank().over(window_spec))\n",
    "\n",
    "day_sales_ranked_df.show()"
   ]
  },
  {
   "cell_type": "code",
   "execution_count": 9,
   "metadata": {},
   "outputs": [],
   "source": [
    "station_info_df_copy = station_info_df.select(\n",
    "    [col(col_name).alias(col_name + \"_d2\") for col_name in station_info_df.columns]\n",
    ")\n",
    "\n",
    "df_joined = station_info_df.crossJoin(station_info_df_copy)"
   ]
  },
  {
   "cell_type": "code",
   "execution_count": 10,
   "metadata": {},
   "outputs": [],
   "source": [
    "# Convert string columns to float using the `cast` function\n",
    "df_joined = df_joined.withColumn(\"Latitude\", df_joined[\"Latitude\"].cast(FloatType()))\n",
    "df_joined = df_joined.withColumn(\"Longitudine\", df_joined[\"Longitudine\"].cast(FloatType()))\n",
    "df_joined = df_joined.withColumn(\"Latitude_d2\", df_joined[\"Latitude_d2\"].cast(FloatType()))\n",
    "df_joined = df_joined.withColumn(\"Longitudine_d2\", df_joined[\"Longitudine_d2\"].cast(FloatType()))"
   ]
  },
  {
   "cell_type": "code",
   "execution_count": 11,
   "metadata": {},
   "outputs": [
    {
     "name": "stdout",
     "output_type": "stream",
     "text": [
      "root\n",
      " |-- Id: string (nullable = true)\n",
      " |-- Petrol_company: string (nullable = true)\n",
      " |-- Type: string (nullable = true)\n",
      " |-- Station_name: string (nullable = true)\n",
      " |-- City: string (nullable = true)\n",
      " |-- Latitude: float (nullable = true)\n",
      " |-- Longitudine: float (nullable = true)\n",
      " |-- Id_d2: string (nullable = true)\n",
      " |-- Petrol_company_d2: string (nullable = true)\n",
      " |-- Type_d2: string (nullable = true)\n",
      " |-- Station_name_d2: string (nullable = true)\n",
      " |-- City_d2: string (nullable = true)\n",
      " |-- Latitude_d2: float (nullable = true)\n",
      " |-- Longitudine_d2: float (nullable = true)\n",
      "\n",
      "None\n"
     ]
    }
   ],
   "source": [
    "print(df_joined.printSchema())"
   ]
  },
  {
   "cell_type": "code",
   "execution_count": 12,
   "metadata": {},
   "outputs": [
    {
     "name": "stderr",
     "output_type": "stream",
     "text": [
      "[Stage 15:>                                                         (0 + 1) / 1]\r"
     ]
    },
    {
     "name": "stdout",
     "output_type": "stream",
     "text": [
      "+-----+--------------+--------+--------------------------------+----------+-----+-----------------+--------+-------------------------------------------------------------------+------------------------+----------------+\n",
      "|Id   |Petrol_company|Type    |Station_name                    |City      |Id_d2|Petrol_company_d2|Type_d2 |Station_name_d2                                                    |City_d2                 |Distance_between|\n",
      "+-----+--------------+--------+--------------------------------+----------+-----+-----------------+--------+-------------------------------------------------------------------+------------------------+----------------+\n",
      "|11461|Q8            |Stradale|AYMAVILLES-F.NE VILLETOS S.R. 47|AYMAVILLES|11461|Q8               |Stradale|AYMAVILLES-F.NE VILLETOS S.R. 47                                   |AYMAVILLES              |0.0             |\n",
      "|11461|Q8            |Stradale|AYMAVILLES-F.NE VILLETOS S.R. 47|AYMAVILLES|35245|Agip Eni         |Stradale|Castel di Lama Carburanti                                          |CASTEL DI LAMA          |603.6458        |\n",
      "|11461|Q8            |Stradale|AYMAVILLES-F.NE VILLETOS S.R. 47|AYMAVILLES|47721|Esso             |Stradale|ESSO                                                               |SAN BENEDETTO DEL TRONTO|610.89276       |\n",
      "|11461|Q8            |Stradale|AYMAVILLES-F.NE VILLETOS S.R. 47|AYMAVILLES|16199|Api-Ip           |Stradale|Distributore carburanti                                            |NAVELLI                 |646.0504        |\n",
      "|11461|Q8            |Stradale|AYMAVILLES-F.NE VILLETOS S.R. 47|AYMAVILLES|37440|Tamoil           |Stradale|LATERINA                                                           |LATERINA                |429.86057       |\n",
      "|11461|Q8            |Stradale|AYMAVILLES-F.NE VILLETOS S.R. 47|AYMAVILLES|11465|Q8               |Stradale|SAN GIOVANNI VALDARNO-VIALE RISORGIMENTO 4/A                       |SAN GIOVANNI VALDARNO   |414.88522       |\n",
      "|11461|Q8            |Stradale|AYMAVILLES-F.NE VILLETOS S.R. 47|AYMAVILLES|11474|Q8               |Stradale|ASTI-CORSO ALBA 19                                                 |ASTI                    |117.09203       |\n",
      "|11461|Q8            |Stradale|AYMAVILLES-F.NE VILLETOS S.R. 47|AYMAVILLES|36385|Api-Ip           |Stradale|DISTRIBUTORE CARBURANTI EREDI CAMPIDONICO SPA NIZZA MONFERRATO (AT)|NIZZA MONFERRATO        |135.3866        |\n",
      "|11461|Q8            |Stradale|AYMAVILLES-F.NE VILLETOS S.R. 47|AYMAVILLES|40535|Beneco           |Stradale|Stazione di servizio San Mango sul Calore                          |SAN MANGO SUL CALORE    |818.0743        |\n",
      "|11461|Q8            |Stradale|AYMAVILLES-F.NE VILLETOS S.R. 47|AYMAVILLES|32170|Repsol           |Stradale|REPSOL                                                             |TORRE LE NOCELLE        |807.5878        |\n",
      "|11461|Q8            |Stradale|AYMAVILLES-F.NE VILLETOS S.R. 47|AYMAVILLES|27670|Pompe Bianche    |Stradale|EUROCARBURANTI SRL                                                 |ALTAMURA                |927.87744       |\n",
      "|11461|Q8            |Stradale|AYMAVILLES-F.NE VILLETOS S.R. 47|AYMAVILLES|52289|Dill s           |Stradale|DIMA SRL                                                           |BARI                    |930.21906       |\n",
      "|11461|Q8            |Stradale|AYMAVILLES-F.NE VILLETOS S.R. 47|AYMAVILLES|35665|Agip Eni         |Stradale|PV 55366 Corato                                                    |CORATO                  |897.74536       |\n",
      "|11461|Q8            |Stradale|AYMAVILLES-F.NE VILLETOS S.R. 47|AYMAVILLES|18883|Q8               |Stradale|STAZIONE Q8 DEI F.LLI CALIA                                        |MODUGNO                 |924.3354        |\n",
      "|11461|Q8            |Stradale|AYMAVILLES-F.NE VILLETOS S.R. 47|AYMAVILLES|31826|Q8               |Stradale|STAZIONE DI SERVIZIO  Q8 DI NORIS G                                |GRASSOBBIO              |192.32019       |\n",
      "|11461|Q8            |Stradale|AYMAVILLES-F.NE VILLETOS S.R. 47|AYMAVILLES|6207 |Agip Eni         |Stradale|AREA DI SERVIZIO OASI                                              |GRUMELLO DEL MONTE      |204.30843       |\n",
      "|11461|Q8            |Stradale|AYMAVILLES-F.NE VILLETOS S.R. 47|AYMAVILLES|11991|Agip Eni         |Stradale|ENI ARIOLI ALDO                                                    |OSIO SOTTO              |182.65205       |\n",
      "|11461|Q8            |Stradale|AYMAVILLES-F.NE VILLETOS S.R. 47|AYMAVILLES|22458|Pompe Bianche    |Stradale|TREVIGLIO - VIA BERGAMO 90                                         |TREVIGLIO               |184.17159       |\n",
      "|11461|Q8            |Stradale|AYMAVILLES-F.NE VILLETOS S.R. 47|AYMAVILLES|17945|Agip Eni         |Stradale|Distributore carburanti eni 25549                                  |BENTIVOGLIO             |345.51196       |\n",
      "|11461|Q8            |Stradale|AYMAVILLES-F.NE VILLETOS S.R. 47|AYMAVILLES|8863 |Q8               |Stradale|Q8                                                                 |BOLOGNA                 |352.43304       |\n",
      "+-----+--------------+--------+--------------------------------+----------+-----+-----------------+--------+-------------------------------------------------------------------+------------------------+----------------+\n",
      "only showing top 20 rows\n",
      "\n"
     ]
    },
    {
     "name": "stderr",
     "output_type": "stream",
     "text": [
      "                                                                                \r"
     ]
    }
   ],
   "source": [
    "# Define a user-defined function (UDF) to calculate distances\n",
    "@udf(FloatType())\n",
    "def calculate_distance(lat1, lon1, lat2, lon2):\n",
    "    return haversine((lat1, lon1), (lat2, lon2), unit=Unit.KILOMETERS)\n",
    "\n",
    "# Add a new column 'Distance_between' to the DataFrame using the UDF\n",
    "result_df = df_joined.withColumn(\"Distance_between\", calculate_distance(\n",
    "    col(\"Latitude\"), col(\"Longitudine\"), col(\"Latitude_d2\"), col(\"Longitudine_d2\")\n",
    "))\n",
    "\n",
    "# Select the desired columns\n",
    "result_df = result_df.select(\"Id\", \"Petrol_company\", \"Type\", \"Station_name\", \"City\", \"Id_d2\", \"Petrol_company_d2\", \"Type_d2\", \"Station_name_d2\", \"City_d2\", \"Distance_between\")\n",
    "\n",
    "# Show the resulting DataFrame\n",
    "result_df.show(truncate=False)"
   ]
  },
  {
   "cell_type": "code",
   "execution_count": 13,
   "metadata": {},
   "outputs": [
    {
     "name": "stderr",
     "output_type": "stream",
     "text": [
      "23/09/06 11:36:19 WARN ExtractPythonUDFFromJoinCondition: The join condition:(calculate_distance(cast(Latitude#13 as float), cast(Longitudine#14 as float), cast(Latitude_d2#140 as float), cast(Longitudine_d2#141 as float))#232 < 100.0) of the join plan contains PythonUDF only, it will be moved out and the join plan will be turned to cross join.\n"
     ]
    },
    {
     "name": "stdout",
     "output_type": "stream",
     "text": [
      "+-----+--------------+--------+--------------------------------+----------+-----+-----------------+--------+------------------------------------+------------------+----------------+\n",
      "|Id   |Petrol_company|Type    |Station_name                    |City      |Id_d2|Petrol_company_d2|Type_d2 |Station_name_d2                     |City_d2           |Distance_between|\n",
      "+-----+--------------+--------+--------------------------------+----------+-----+-----------------+--------+------------------------------------+------------------+----------------+\n",
      "|11461|Q8            |Stradale|AYMAVILLES-F.NE VILLETOS S.R. 47|AYMAVILLES|11461|Q8               |Stradale|AYMAVILLES-F.NE VILLETOS S.R. 47    |AYMAVILLES        |0.0             |\n",
      "|11461|Q8            |Stradale|AYMAVILLES-F.NE VILLETOS S.R. 47|AYMAVILLES|29453|Api-Ip           |Stradale|TotalErg                            |CHIERI            |88.12894        |\n",
      "|11461|Q8            |Stradale|AYMAVILLES-F.NE VILLETOS S.R. 47|AYMAVILLES|31773|Pompe Bianche    |Stradale|GIODA AGOSTINO SRL -G.P.L.          |VENARIA REALE     |72.07052        |\n",
      "|11461|Q8            |Stradale|AYMAVILLES-F.NE VILLETOS S.R. 47|AYMAVILLES|53162|Esso             |Stradale|EGI-2GO VILLADOSSOLA                |VILLADOSSOLA      |89.19637        |\n",
      "|11461|Q8            |Stradale|AYMAVILLES-F.NE VILLETOS S.R. 47|AYMAVILLES|50937|Api-Ip           |Stradale|I P                                 |CRESCENTINO       |85.81389        |\n",
      "|11461|Q8            |Stradale|AYMAVILLES-F.NE VILLETOS S.R. 47|AYMAVILLES|29047|Api-Ip           |Stradale| ip pinet jimmy                     |VERRE'S           |34.593204       |\n",
      "|11461|Q8            |Stradale|AYMAVILLES-F.NE VILLETOS S.R. 47|AYMAVILLES|10540|Pompe Bianche    |Stradale|CENTRO CALOR BRICHERASIO            |BRICHERASIO       |97.49551        |\n",
      "|11461|Q8            |Stradale|AYMAVILLES-F.NE VILLETOS S.R. 47|AYMAVILLES|11876|Q8               |Stradale|IVREA-VIA TORINO 216                |IVREA             |57.027435       |\n",
      "|11461|Q8            |Stradale|AYMAVILLES-F.NE VILLETOS S.R. 47|AYMAVILLES|53366|Api-Ip           |Stradale|ip                                  |RIVOLI            |72.784096       |\n",
      "|11461|Q8            |Stradale|AYMAVILLES-F.NE VILLETOS S.R. 47|AYMAVILLES|50928|Agip Eni         |Stradale|ENI 782                             |STRAMBINO         |60.542595       |\n",
      "|11461|Q8            |Stradale|AYMAVILLES-F.NE VILLETOS S.R. 47|AYMAVILLES|48737|Carrefour        |Stradale|Carrefour Bramante                  |TORINO            |80.65358        |\n",
      "|11461|Q8            |Stradale|AYMAVILLES-F.NE VILLETOS S.R. 47|AYMAVILLES|18902|Esso             |Stradale|esso autostazione cigna             |TORINO            |77.05835        |\n",
      "|11461|Q8            |Stradale|AYMAVILLES-F.NE VILLETOS S.R. 47|AYMAVILLES|52468|Api-Ip           |Stradale|IP - Torino Corso Casale 306        |TORINO            |79.44528        |\n",
      "|11461|Q8            |Stradale|AYMAVILLES-F.NE VILLETOS S.R. 47|AYMAVILLES|6388 |Q8               |Stradale|TORINO C.SO GIULIO CESARE 276       |TORINO            |75.737564       |\n",
      "|11461|Q8            |Stradale|AYMAVILLES-F.NE VILLETOS S.R. 47|AYMAVILLES|48368|Europam          |Stradale|EUROPAM                             |DOMODOSSOLA       |93.57127        |\n",
      "|11461|Q8            |Stradale|AYMAVILLES-F.NE VILLETOS S.R. 47|AYMAVILLES|34187|DIS-CAR          |Stradale|DISCAR CERESOLE REALE               |CERESOLE REALE    |30.389612       |\n",
      "|11461|Q8            |Stradale|AYMAVILLES-F.NE VILLETOS S.R. 47|AYMAVILLES|11462|Q8               |Stradale|ANTEY SAINT'ANDRE-FRAZIONE FILEY 21A|ANTEY-SAINT-ANDRE'|29.107336       |\n",
      "|11461|Q8            |Stradale|AYMAVILLES-F.NE VILLETOS S.R. 47|AYMAVILLES|22073|GO               |Stradale|GO NEBBIUNO                         |NEBBIUNO          |99.51585        |\n",
      "|11461|Q8            |Stradale|AYMAVILLES-F.NE VILLETOS S.R. 47|AYMAVILLES|19989|Tamoil           |Stradale|tamoil                              |CAFASSE           |55.181595       |\n",
      "|11461|Q8            |Stradale|AYMAVILLES-F.NE VILLETOS S.R. 47|AYMAVILLES|52809|DIS-CAR          |Stradale|DISCAR CHIVASSO                     |CHIVASSO          |72.065605       |\n",
      "+-----+--------------+--------+--------------------------------+----------+-----+-----------------+--------+------------------------------------+------------------+----------------+\n",
      "only showing top 20 rows\n",
      "\n"
     ]
    }
   ],
   "source": [
    "# Filter the DataFrame to select stations within 100 kilometers\n",
    "filtered_df = result_df.filter(result_df[\"Distance_between\"] < 100)\n",
    "\n",
    "# Show the filtered DataFrame\n",
    "filtered_df.show(truncate=False)"
   ]
  },
  {
   "cell_type": "code",
   "execution_count": 14,
   "metadata": {},
   "outputs": [
    {
     "name": "stderr",
     "output_type": "stream",
     "text": [
      "[Stage 26:==================================================>       (7 + 1) / 8]\r"
     ]
    },
    {
     "name": "stdout",
     "output_type": "stream",
     "text": [
      "+------+------+------+------+------+------+------+\n",
      "|   Fri|   Mon|   Sat|   Sun|   Thu|   Tue|   Wed|\n",
      "+------+------+------+------+------+------+------+\n",
      "|362752|410910|308091|238545|385288|363014|375737|\n",
      "+------+------+------+------+------+------+------+\n",
      "\n"
     ]
    },
    {
     "name": "stderr",
     "output_type": "stream",
     "text": [
      "                                                                                \r"
     ]
    }
   ],
   "source": [
    "# Extract the day of the week from the 'Date' column and create a new column 'Day_of_Week'\n",
    "fuel_prices_df = fuel_prices_df.withColumn(\"Day_of_Week\", date_format(col(\"Date\"), \"E\"))\n",
    "\n",
    "# Pivot the table to get counts for each day of the week\n",
    "pivot_df = fuel_prices_df.groupBy().pivot(\"Day_of_Week\").agg(count(\"*\"))\n",
    "\n",
    "# Display the result\n",
    "pivot_df.show()"
   ]
  },
  {
   "cell_type": "code",
   "execution_count": 15,
   "metadata": {},
   "outputs": [
    {
     "name": "stdout",
     "output_type": "stream",
     "text": [
      "+-----+------+-----+-------------------+------------------+-----------+--------------+------------+--------------------+-------------------+-----------------+------------------+\n",
      "|   Id|isSelf|Price|               Date|Price_Euro_Rounded|Day_of_Week|Petrol_company|        Type|        Station_name|               City|         Latitude|       Longitudine|\n",
      "+-----+------+-----+-------------------+------------------+-----------+--------------+------------+--------------------+-------------------+-----------------+------------------+\n",
      "| 5079|     1|1.809|2022-01-04 06:39:09|             1.676|        Tue|      Agip Eni|    Stradale|_eni settebagni c...|               ROMA| 42.0108885470618| 12.51839518547058|\n",
      "|38752|     1|1.804|2022-01-04 07:18:19|             1.671|        Tue|      Agip Eni|    Stradale|          eni pv1351|             SAVONA|44.29415084326569| 8.452990427613258|\n",
      "|51635|     0|1.974|2022-01-04 07:39:23|             1.828|        Tue|      Agip Eni|    Stradale|   ENI STATION 34900|              TERNI|42.56727102575589| 12.62816770429736|\n",
      "| 6810|     0|2.009|2022-01-04 07:50:04|             1.861|        Tue|      Agip Eni|    Stradale|                 eni|            SORTINO|37.16311932493388|15.034648328172352|\n",
      "| 4983|     0|1.758|2022-01-04 07:55:36|             1.628|        Tue| Pompe Bianche|    Stradale|  Malaspina Giuseppe|        BRANCALEONE|37.94307219677943|16.081328988075256|\n",
      "|51790|     1|1.819|2022-01-04 08:50:47|             1.685|        Tue|        Api-Ip|    Stradale|                  IP|               COMO| 45.7920430293505|  9.06976624456186|\n",
      "|42708|     0|2.064|2022-01-04 08:51:50|             1.912|        Tue|      Agip Eni|    Stradale|                 eni|               ROMA|41.89193113168417| 12.40807592868805|\n",
      "|48545|     1|1.799|2022-01-04 09:26:35|             1.666|        Tue|          Esso|    Stradale|               ESSO |   BORGARO TORINESE|45.14578362121748| 7.655568728836055|\n",
      "|46455|     0|1.954|2022-01-04 12:14:28|              1.81|        Tue|        Aquila|    Stradale|              AQUILA|          FUCECCHIO|43.73688705040582|10.809774398803713|\n",
      "|47555|     0|2.048|2022-01-04 12:58:37|             1.897|        Tue|          Esso|    Stradale|stazione di servi...|              PAVIA|  45.199625000123|    9.150815000123|\n",
      "| 6711|     1|1.819|2022-01-04 13:15:06|             1.685|        Tue|            Q8|    Stradale|SPERONE S.S. 7 BI...|            SPERONE| 40.9523868203699|14.600006639957428|\n",
      "|31878|     1|1.784|2022-01-04 13:15:25|             1.652|        Tue|            Q8|    Stradale|MUGNANO - S.P. ME...|  MUGNANO DI NAPOLI|40.91692099516414|14.222807586193085|\n",
      "|52822|     1|1.769|2022-01-04 13:19:01|             1.639|        Tue|       DIS-CAR|    Stradale|DISCAR CUNEO BOVE...|              CUNEO|44.38678228565071| 7.569515939855944|\n",
      "|51870|     0|2.054|2022-01-04 13:40:13|             1.903|        Tue|      Agip Eni|    Stradale| PV 53628 – Grosseto|           GROSSETO|42.75121550266971|11.112872188121743|\n",
      "|46259|     0|1.959|2022-01-04 13:46:46|             1.815|        Tue|        Api-Ip|    Stradale|IP AVIOLAMP strad...|              LECCE|40.33648076406952|18.155344234389418|\n",
      "| 3598|     1|1.859|2022-01-04 14:08:03|             1.722|        Tue|        Api-Ip|Autostradale|    PRENESTINA OVEST|GALLICANO NEL LAZIO|41.88824090776283|12.759972068786624|\n",
      "|37707|     1|1.669|2022-01-04 14:28:04|             1.546|        Tue|        Tamoil|    Stradale|                1390|          MONSELICE|45.23064630850708|11.754762902855871|\n",
      "|30753|     1|1.799|2022-01-04 14:42:39|             1.666|        Tue|        Api-Ip|    Stradale|        Lucio Sestio|               ROMA| 41.8558315306428| 12.55312709627276|\n",
      "|46342|     0|1.954|2022-01-04 14:46:33|              1.81|        Tue|        Api-Ip|    Stradale|STAZIONE DI SERVI...|             AREZZO|43.47097478191398|   11.814084649086|\n",
      "| 9352|     1|1.698|2022-01-04 14:53:36|             1.573|        Tue|           ICM|    Stradale|       ICM - Firenze|            FIRENZE| 43.7461807639952|11.228799819946287|\n",
      "+-----+------+-----+-------------------+------------------+-----------+--------------+------------+--------------------+-------------------+-----------------+------------------+\n",
      "only showing top 20 rows\n",
      "\n"
     ]
    }
   ],
   "source": [
    "merged_df = fuel_prices_df.join(station_info_df , on=\"Id\", how=\"inner\")\n",
    "\n",
    "merged_df.show()"
   ]
  },
  {
   "cell_type": "code",
   "execution_count": 16,
   "metadata": {},
   "outputs": [
    {
     "name": "stderr",
     "output_type": "stream",
     "text": [
      "[Stage 35:==================================================>       (7 + 1) / 8]\r"
     ]
    },
    {
     "name": "stdout",
     "output_type": "stream",
     "text": [
      "Filtered Data Count: 625\n"
     ]
    },
    {
     "name": "stderr",
     "output_type": "stream",
     "text": [
      "                                                                                \r"
     ]
    }
   ],
   "source": [
    "# Extract the hour from the \"Date\" timestamp and add it as a new column \"Hour\"\n",
    "merged_df = merged_df.withColumn(\"Hour\", hour(merged_df[\"Date\"]))\n",
    "\n",
    "# Filter the data to include only self-service fuel stations in specific cities (Calcinate, Osio Sopra, Treviglio, Biella) and with Petrol_company Q8\n",
    "cities_to_include = [\"AGRIGENTO\", \"OSIO SOPRA\"]\n",
    "filtered_df = merged_df.filter((merged_df[\"isSelf\"] == 1) & (merged_df[\"City\"].isin(cities_to_include)) & (merged_df[\"Petrol_company\"] == \"Q8\"))\n",
    "\n",
    "print(\"Filtered Data Count:\", filtered_df.count())"
   ]
  },
  {
   "cell_type": "code",
   "execution_count": 17,
   "metadata": {},
   "outputs": [
    {
     "name": "stderr",
     "output_type": "stream",
     "text": [
      "[Stage 39:=============================>                            (4 + 4) / 8]\r"
     ]
    },
    {
     "name": "stdout",
     "output_type": "stream",
     "text": [
      "+-----+------+-----+-------------------+------------------+-----------+--------------+--------+--------------------+---------+-----------------+------------------+----+-----------------+\n",
      "|   Id|isSelf|Price|               Date|Price_Euro_Rounded|Day_of_Week|Petrol_company|    Type|        Station_name|     City|         Latitude|       Longitudine|Hour|    Total_Revenue|\n",
      "+-----+------+-----+-------------------+------------------+-----------+--------------+--------+--------------------+---------+-----------------+------------------+----+-----------------+\n",
      "|28277|     1|1.739|2022-04-04 00:35:12|             1.611|        Mon|            Q8|Stradale|QUADRIVIO SPINANS...|AGRIGENTO|37.31919829622775|13.581069525760311|   0|91.20899999999999|\n",
      "|28277|     1|2.019|2022-06-27 00:37:14|              1.87|        Mon|            Q8|Stradale|QUADRIVIO SPINANS...|AGRIGENTO|37.31919829622775|13.581069525760311|   0|91.20899999999999|\n",
      "|50463|     1|2.089|2022-06-27 00:37:14|             1.935|        Mon|            Q8|Stradale|VIA LEONARDO SCIA...|AGRIGENTO|37.27432157330476|13.614238371163946|   0|91.20899999999999|\n",
      "|50463|     1|1.819|2022-09-05 00:33:26|             1.685|        Mon|            Q8|Stradale|VIA LEONARDO SCIA...|AGRIGENTO|37.27432157330476|13.614238371163946|   0|91.20899999999999|\n",
      "|25614|     1|1.689|2022-11-21 00:36:34|             1.564|        Mon|            Q8|Stradale|AGRIGENTO VIA FOS...|AGRIGENTO|37.29582883251122|13.547611503041026|   0|91.20899999999999|\n",
      "|28277|     1|1.619|2022-11-28 00:35:04|               1.5|        Mon|            Q8|Stradale|QUADRIVIO SPINANS...|AGRIGENTO|37.31919829622775|13.581069525760311|   0|91.20899999999999|\n",
      "|50463|     1|1.699|2022-11-21 00:36:33|             1.574|        Mon|            Q8|Stradale|VIA LEONARDO SCIA...|AGRIGENTO|37.27432157330476|13.614238371163946|   0|91.20899999999999|\n",
      "|28277|     1|1.624|2022-09-26 00:37:38|             1.504|        Mon|            Q8|Stradale|QUADRIVIO SPINANS...|AGRIGENTO|37.31919829622775|13.581069525760311|   0|91.20899999999999|\n",
      "|28277|     1|1.679|2022-10-17 00:35:21|             1.555|        Mon|            Q8|Stradale|QUADRIVIO SPINANS...|AGRIGENTO|37.31919829622775|13.581069525760311|   0|91.20899999999999|\n",
      "|28277|     1|1.669|2022-10-31 00:34:25|             1.546|        Mon|            Q8|Stradale|QUADRIVIO SPINANS...|AGRIGENTO|37.31919829622775|13.581069525760311|   0|91.20899999999999|\n",
      "|28277|     1|1.659|2022-11-21 00:36:33|             1.537|        Mon|            Q8|Stradale|QUADRIVIO SPINANS...|AGRIGENTO|37.31919829622775|13.581069525760311|   0|91.20899999999999|\n",
      "|25614|     1|1.654|2022-11-28 00:35:04|             1.532|        Mon|            Q8|Stradale|AGRIGENTO VIA FOS...|AGRIGENTO|37.29582883251122|13.547611503041026|   0|91.20899999999999|\n",
      "|25614|     1|1.774|2022-04-04 00:35:13|             1.643|        Mon|            Q8|Stradale|AGRIGENTO VIA FOS...|AGRIGENTO|37.29582883251122|13.547611503041026|   0|91.20899999999999|\n",
      "|50463|     1|1.827|2022-05-16 00:38:14|             1.692|        Mon|            Q8|Stradale|VIA LEONARDO SCIA...|AGRIGENTO|37.27432157330476|13.614238371163946|   0|91.20899999999999|\n",
      "|50463|     1|1.879|2022-05-23 00:39:20|              1.74|        Mon|            Q8|Stradale|VIA LEONARDO SCIA...|AGRIGENTO|37.27432157330476|13.614238371163946|   0|91.20899999999999|\n",
      "|28277|     1|1.879|2022-05-23 00:39:20|              1.74|        Mon|            Q8|Stradale|QUADRIVIO SPINANS...|AGRIGENTO|37.31919829622775|13.581069525760311|   0|91.20899999999999|\n",
      "|25614|     1|1.859|2022-05-23 00:39:21|             1.722|        Mon|            Q8|Stradale|AGRIGENTO VIA FOS...|AGRIGENTO|37.29582883251122|13.547611503041026|   0|91.20899999999999|\n",
      "|28277|     1|1.659|2022-10-24 00:34:20|             1.537|        Mon|            Q8|Stradale|QUADRIVIO SPINANS...|AGRIGENTO|37.31919829622775|13.581069525760311|   0|91.20899999999999|\n",
      "|25614|     1|1.749|2022-11-04 00:38:17|              1.62|        Fri|            Q8|Stradale|AGRIGENTO VIA FOS...|AGRIGENTO|37.29582883251122|13.547611503041026|   0|91.20899999999999|\n",
      "|28277|     1|1.649|2022-12-12 00:36:36|             1.527|        Mon|            Q8|Stradale|QUADRIVIO SPINANS...|AGRIGENTO|37.31919829622775|13.581069525760311|   0|91.20899999999999|\n",
      "+-----+------+-----+-------------------+------------------+-----------+--------------+--------+--------------------+---------+-----------------+------------------+----+-----------------+\n",
      "only showing top 20 rows\n",
      "\n"
     ]
    },
    {
     "name": "stderr",
     "output_type": "stream",
     "text": [
      "                                                                                \r"
     ]
    }
   ],
   "source": [
    "# Define a window specification to partition data by 'Petrol_company' and 'Hour'\n",
    "window_spec = Window.partitionBy('Petrol_company', 'Hour')\n",
    "\n",
    "# Calculate the total revenue for each group\n",
    "total_revenue_df = filtered_df.withColumn('Total_Revenue', sum('Price').over(window_spec))\n",
    "\n",
    "# Display the resulting DataFrame\n",
    "total_revenue_df.show()"
   ]
  },
  {
   "cell_type": "code",
   "execution_count": 18,
   "metadata": {},
   "outputs": [
    {
     "name": "stderr",
     "output_type": "stream",
     "text": [
      "                                                                                \r"
     ]
    },
    {
     "name": "stdout",
     "output_type": "stream",
     "text": [
      "+--------------+------------------+-------------------+\n",
      "|Prices        |Avg_Fluctuation   |City               |\n",
      "+--------------+------------------+-------------------+\n",
      "|[1.639, 1.639]|1.5020909090909091|SAN DEMETRIO CORONE|\n",
      "|[4.0, 1.639]  |1.5020909090909091|SAN DEMETRIO CORONE|\n",
      "|[4.0, 1.669]  |1.5020909090909091|SAN DEMETRIO CORONE|\n",
      "|[4.0, 4.0]    |1.5020909090909091|SAN DEMETRIO CORONE|\n",
      "|[4.0, 1.789]  |1.5020909090909091|SAN DEMETRIO CORONE|\n",
      "|[4.0, 1.699]  |1.5020909090909091|SAN DEMETRIO CORONE|\n",
      "|[1.955, 1.629]|1.5020909090909091|SAN DEMETRIO CORONE|\n",
      "|[4.0, 1.679]  |1.5020909090909091|SAN DEMETRIO CORONE|\n",
      "|[4.0, 1.659]  |1.5020909090909091|SAN DEMETRIO CORONE|\n",
      "|[2.484, 1.587]|1.4498260869565218|TARANTO            |\n",
      "|[2.497, 1.559]|1.4498260869565218|TARANTO            |\n",
      "|[2.399, 1.569]|1.4498260869565218|TARANTO            |\n",
      "|[2.417, 1.547]|1.4498260869565218|TARANTO            |\n",
      "|[2.358, 1.556]|1.4498260869565218|TARANTO            |\n",
      "|[2.417, 1.599]|1.4498260869565218|TARANTO            |\n",
      "|[2.174, 1.629]|1.4498260869565218|TARANTO            |\n",
      "|[2.089, 1.645]|1.4498260869565218|TARANTO            |\n",
      "|[2.484, 1.539]|1.4498260869565218|TARANTO            |\n",
      "|[4.0, 1.579]  |1.4498260869565218|TARANTO            |\n",
      "|[4.0, 1.0]    |1.4498260869565218|TARANTO            |\n",
      "+--------------+------------------+-------------------+\n",
      "only showing top 20 rows\n",
      "\n"
     ]
    }
   ],
   "source": [
    "# Convert the timestamp to the specified timezone (America/New_York) and extract the hour\n",
    "hour_df = merged_df.withColumn(\"Hour\", hour(from_utc_timestamp(merged_df[\"Date\"], \"America/New_York\")))\n",
    "\n",
    "# Calculate hourly price fluctuations for each city\n",
    "price_fluctuations_df = hour_df.groupBy(\"City\", \"Hour\").agg((max(\"Price\") - min(\"Price\")).alias(\"Price_Fluctuation\"))\n",
    "\n",
    "# Calculate max and min prices separately\n",
    "max_prices_df = hour_df.groupBy(\"City\", \"Hour\").agg(max(\"Price\").alias(\"Max_Price\"))\n",
    "min_prices_df = hour_df.groupBy(\"City\", \"Hour\").agg(min(\"Price\").alias(\"Min_Price\"))\n",
    "\n",
    "# Join max and min prices together\n",
    "fluctuation_with_max_min_df = price_fluctuations_df.join(max_prices_df, [\"City\", \"Hour\"], \"inner\").join(min_prices_df, [\"City\", \"Hour\"], \"inner\")\n",
    "\n",
    "# Create an array column combining max and min prices\n",
    "price_array_df = fluctuation_with_max_min_df.withColumn(\"Prices\", array(\"Max_Price\", \"Min_Price\"))\n",
    "\n",
    "# Find the top 10 cities with the highest price fluctuations\n",
    "top_cities_fluctuations = price_array_df.groupBy(\"City\").agg(avg(\"Price_Fluctuation\").alias(\"Avg_Fluctuation\")).orderBy(\"Avg_Fluctuation\", ascending=False).limit(10)\n",
    "\n",
    "# Join the DataFrames on the \"City\" column\n",
    "result_df = top_cities_fluctuations.join(price_array_df, [\"City\"], \"inner\")\n",
    "\n",
    "# Select the desired columns and order by \"Avg_Fluctuation\" in descending order\n",
    "result_df = result_df.select(\"Prices\", \"Avg_Fluctuation\", \"City\").distinct().orderBy(result_df[\"Avg_Fluctuation\"].desc())\n",
    "\n",
    "# Show the result\n",
    "result_df.show(truncate=False)"
   ]
  },
  {
   "cell_type": "code",
   "execution_count": 19,
   "metadata": {},
   "outputs": [
    {
     "name": "stderr",
     "output_type": "stream",
     "text": [
      "[Stage 64:====================================>                     (5 + 3) / 8]\r"
     ]
    },
    {
     "name": "stdout",
     "output_type": "stream",
     "text": [
      "+-----+------+-----+-------------------+------------------+-----------+--------------+------------+------------+----------+-----------------+------------------+----+------------------+\n",
      "|   Id|isSelf|Price|               Date|Price_Euro_Rounded|Day_of_Week|Petrol_company|        Type|Station_name|      City|         Latitude|       Longitudine|Hour|  7_Hour_Avg_Price|\n",
      "+-----+------+-----+-------------------+------------------+-----------+--------------+------------+------------+----------+-----------------+------------------+----+------------------+\n",
      "|49460|     1|2.319|2022-10-06 12:38:53|             2.148|        Thu|            Q8|    Stradale|       AG023| AGRIGENTO|37.32612049037331|13.591820001602168|  12|2.0947142857142858|\n",
      "|25613|     1|1.839|2022-07-04 14:30:07|             1.703|        Mon|            Q8|Autostradale|  BREMBO SUD|OSIO SOPRA|45.63188736814508| 9.600096659217913|  14|2.0618571428571433|\n",
      "|25613|     1|2.099|2022-07-06 14:30:45|             1.944|        Wed|            Q8|Autostradale|  BREMBO SUD|OSIO SOPRA|45.63188736814508| 9.600096659217913|  14|2.0618571428571433|\n",
      "+-----+------+-----+-------------------+------------------+-----------+--------------+------------+------------+----------+-----------------+------------------+----+------------------+\n",
      "\n"
     ]
    },
    {
     "name": "stderr",
     "output_type": "stream",
     "text": [
      "                                                                                \r"
     ]
    }
   ],
   "source": [
    "# Define the window specification for the rolling average\n",
    "rolling_window_spec = Window.partitionBy(\"City\").orderBy(\"Date\").rowsBetween(-6, 0)\n",
    "\n",
    "# Calculate the rolling 7-hour average price\n",
    "rolling_avg_price = filtered_df.withColumn(\"7_Hour_Avg_Price\", avg(\"Price\").over(rolling_window_spec))\n",
    "\n",
    "# Determine the row with the maximum 7-hour average price within each city\n",
    "max_avg_price_row = rolling_avg_price.withColumn(\"max_7_Hour_Avg_Price\", max(\"7_Hour_Avg_Price\").over(Window.partitionBy(\"City\")))\n",
    "result_df = max_avg_price_row.filter(col(\"7_Hour_Avg_Price\") == col(\"max_7_Hour_Avg_Price\")).drop(\"max_7_Hour_Avg_Price\")\n",
    "\n",
    "# Show the result\n",
    "result_df.show()"
   ]
  },
  {
   "cell_type": "code",
   "execution_count": 20,
   "metadata": {},
   "outputs": [
    {
     "name": "stderr",
     "output_type": "stream",
     "text": [
      "[Stage 68:=============================>                            (4 + 4) / 8]\r"
     ]
    },
    {
     "name": "stdout",
     "output_type": "stream",
     "text": [
      "The date with the lowest price for 'Stradale' fuel stations in 'AGRIGENTO' is: 2022-01-01 11:45:53\n",
      "The lowest price for that month is: 0.8\n"
     ]
    },
    {
     "name": "stderr",
     "output_type": "stream",
     "text": [
      "                                                                                \r"
     ]
    }
   ],
   "source": [
    "# Define the specific 'fuel station type' and 'city' to analyze\n",
    "selected_fuel_station_type = 'Stradale'\n",
    "selected_city = 'AGRIGENTO' \n",
    "# Filter 'fuel_station_df' for the specific combination\n",
    "filtered_fuel_station_df = station_info_df.filter((col('Type') == selected_fuel_station_type) & (col('City') == selected_city))\n",
    "\n",
    "# Extract the month from the 'Date' column\n",
    "joined_df = merged_df.withColumn('YearMonth', year(col('Date')) * 100 + month(col('Date')))\n",
    "\n",
    "# Group by 'YearMonth' and find the minimum timestamp and minimum price within each group\n",
    "min_date_price_per_month = joined_df.groupBy('YearMonth').agg(\n",
    "    min('Date').cast('timestamp').alias('LowestRecordTimestamp'),\n",
    "    min('Price').alias('LowestPrice')\n",
    ")\n",
    "\n",
    "# Find the month with the minimum timestamp and its corresponding lowest price\n",
    "lowest_timestamp_month = min_date_price_per_month.orderBy('LowestRecordTimestamp').first()\n",
    "\n",
    "# Display the result (if a lowest timestamp month is found)\n",
    "if lowest_timestamp_month:\n",
    "    print(f\"The date with the lowest price for '{selected_fuel_station_type}' fuel stations in '{selected_city}' is: {lowest_timestamp_month['LowestRecordTimestamp']}\")\n",
    "    print(f\"The lowest price for that month is: {lowest_timestamp_month['LowestPrice']}\")\n",
    "else:\n",
    "    print(f\"No data found for '{selected_fuel_station_type}' fuel stations in '{selected_city}'.\")"
   ]
  },
  {
   "cell_type": "code",
   "execution_count": 21,
   "metadata": {},
   "outputs": [],
   "source": [
    "# Stop the SparkSession when you're done\n",
    "spark.stop()"
   ]
  },
  {
   "cell_type": "code",
   "execution_count": null,
   "metadata": {},
   "outputs": [],
   "source": []
  }
 ],
 "metadata": {
  "kernelspec": {
   "display_name": "myVenv",
   "language": "python",
   "name": "python3"
  },
  "language_info": {
   "codemirror_mode": {
    "name": "ipython",
    "version": 3
   },
   "file_extension": ".py",
   "mimetype": "text/x-python",
   "name": "python",
   "nbconvert_exporter": "python",
   "pygments_lexer": "ipython3",
   "version": "3.8.10"
  },
  "orig_nbformat": 4
 },
 "nbformat": 4,
 "nbformat_minor": 2
}
