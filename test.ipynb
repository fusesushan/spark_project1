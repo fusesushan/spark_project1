{
 "cells": [
  {
   "cell_type": "code",
   "execution_count": 88,
   "metadata": {},
   "outputs": [
    {
     "name": "stderr",
     "output_type": "stream",
     "text": [
      "23/09/05 13:12:04 WARN SparkSession: Using an existing Spark session; only runtime SQL configurations will take effect.\n"
     ]
    }
   ],
   "source": [
    "from pyspark.sql import SparkSession\n",
    "from pyspark.sql.functions import col, count, when, lit , avg,desc,from_utc_timestamp, hour, max, min,year, month\n",
    "from pyspark.sql.types import StructType, StructField, StringType, IntegerType, FloatType\n",
    "\n",
    "\n",
    "\n",
    "# Create a Spark session\n",
    "spark = SparkSession.builder.appName(\"project\").getOrCreate()\n"
   ]
  },
  {
   "cell_type": "code",
   "execution_count": 89,
   "metadata": {},
   "outputs": [],
   "source": [
    "data_path = \"./Hourly_Gasoline_Prices.csv\"\n",
    "hourly_gasoline_df = spark.read.csv(data_path, header=True, inferSchema=True)\n",
    "\n",
    "data_path = \"./Fuel_Station_Information.csv\"  # Replace with the actual path\n",
    "fuel_station_info_df = spark.read.csv(data_path, header=True, inferSchema=True)\n"
   ]
  },
  {
   "cell_type": "code",
   "execution_count": 90,
   "metadata": {},
   "outputs": [
    {
     "name": "stdout",
     "output_type": "stream",
     "text": [
      "+-----+------+-----+-------------------+--------------------+--------------------+------------+--------------------+--------------------+------------------+------------------+\n",
      "|   Id|isSelf|Price|               Date|Fuel_station_manager|      Petrol_company|        Type|        Station_name|                City|          Latitude|       Longitudine|\n",
      "+-----+------+-----+-------------------+--------------------+--------------------+------------+--------------------+--------------------+------------------+------------------+\n",
      "|51169|     1|1.943|2022-01-01 11:45:53|AURA PETROLSERVIC...|              Api-Ip|Autostradale|     BAUDUCCHI OVEST|          MONCALIERI|44.977977829079535| 7.700215696606636|\n",
      "|44566|     1|1.725|2022-01-02 11:15:08|BOVE SOCIETA' A R...|                Esso|    Stradale|                EASY|           GALLIPOLI|  40.0591184592996|18.032322694481195|\n",
      "|44566|     0|1.775|2022-01-02 11:15:08|BOVE SOCIETA' A R...|                Esso|    Stradale|                EASY|           GALLIPOLI|  40.0591184592996|18.032322694481195|\n",
      "|20026|     1|1.729|2022-01-02 11:27:01|FIARDI TRADING - ...|              Api-Ip|    Stradale|                  IP|         CAMPOMARINO| 41.93850769404562| 15.07697582244873|\n",
      "|12494|     0|1.559|2022-01-02 12:07:25|   BUSSINELLO S.R.L.|       Pompe Bianche|    Stradale|Impianto Verona P...|       SAN BONIFACIO|   45.386059414371|11.273765712976456|\n",
      "|12494|     1|1.559|2022-01-02 12:07:25|   BUSSINELLO S.R.L.|       Pompe Bianche|    Stradale|Impianto Verona P...|       SAN BONIFACIO|   45.386059414371|11.273765712976456|\n",
      "|37593|     0|1.789|2022-01-02 12:36:25|CARBURANTI PALAZZ...|                 Ies|    Stradale|CARBURANTI PALAZZ...|           BARANELLO| 41.51682744039809|  14.5946554026101|\n",
      "|37593|     1|1.789|2022-01-02 12:36:25|CARBURANTI PALAZZ...|                 Ies|    Stradale|CARBURANTI PALAZZ...|           BARANELLO| 41.51682744039809|  14.5946554026101|\n",
      "|50047|     0|1.879|2022-01-02 14:20:37|DI BENEDETTO MARI...|SP Energia Siciliana|    Stradale|stzione di serviz...|VENTIMIGLIA DI SI...| 37.92005143249331| 13.56509252492382|\n",
      "|52185|     0|  1.8|2022-01-02 17:25:08|      PIRA GIANPAOLO|                  Q8|    Stradale|      PIRA GIANPAOLO|               BITTI| 40.47689366521632| 9.382334190405302|\n",
      "|52185|     1|  1.8|2022-01-02 17:25:08|      PIRA GIANPAOLO|                  Q8|    Stradale|      PIRA GIANPAOLO|               BITTI| 40.47689366521632| 9.382334190405302|\n",
      "|34510|     1|1.899|2022-01-03 07:13:01|      TOCCO NICOLINO|            Agip Eni|    Stradale|Distributore Eni ...|    CARAMANICO TERME|42.164401066571344| 14.00350883603096|\n",
      "|34510|     0|2.119|2022-01-03 07:13:01|      TOCCO NICOLINO|            Agip Eni|    Stradale|Distributore Eni ...|    CARAMANICO TERME|42.164401066571344| 14.00350883603096|\n",
      "|34510|     1|1.899|2022-01-03 07:13:01|      TOCCO NICOLINO|            Agip Eni|    Stradale|Distributore Eni ...|    CARAMANICO TERME|42.164401066571344| 14.00350883603096|\n",
      "|34510|     0|2.119|2022-01-03 07:13:01|      TOCCO NICOLINO|            Agip Eni|    Stradale|Distributore Eni ...|    CARAMANICO TERME|42.164401066571344| 14.00350883603096|\n",
      "|27403|     1|1.899|2022-01-03 07:30:01|PATELLA PASQUALE ...|            Agip Eni|    Stradale|                 eni|            AGROPOLI| 40.35451367828656|14.997369199991226|\n",
      "|24761|     1|1.879|2022-01-03 08:11:45|    ANSELMETTI DAVID|       Pompe Bianche|    Stradale|    anselmetti david|         CAPODIMONTE|42.561215489814565|11.881102865473622|\n",
      "|24761|     0|1.879|2022-01-03 08:11:45|    ANSELMETTI DAVID|       Pompe Bianche|    Stradale|    anselmetti david|         CAPODIMONTE|42.561215489814565|11.881102865473622|\n",
      "|50236|     1|1.869|2022-01-03 09:46:23|    FAZIO SEBASTIANO|                  Q8|    Stradale|                  Q8|BARCELLONA POZZO ...|   38.148311324688|15.199450850486755|\n",
      "|50236|     0|2.249|2022-01-03 09:46:23|    FAZIO SEBASTIANO|                  Q8|    Stradale|                  Q8|BARCELLONA POZZO ...|   38.148311324688|15.199450850486755|\n",
      "+-----+------+-----+-------------------+--------------------+--------------------+------------+--------------------+--------------------+------------------+------------------+\n",
      "only showing top 20 rows\n",
      "\n"
     ]
    }
   ],
   "source": [
    "merged_df = hourly_gasoline_df.join(fuel_station_info_df, on=\"Id\", how=\"inner\")\n",
    "\n",
    "merged_df.show()\n"
   ]
  },
  {
   "cell_type": "code",
   "execution_count": 91,
   "metadata": {},
   "outputs": [],
   "source": [
    "fuel_station_info_df = fuel_station_info_df.withColumn(\"Id\", fuel_station_info_df[\"Id\"].cast(\"int\"))\n"
   ]
  },
  {
   "cell_type": "code",
   "execution_count": 92,
   "metadata": {},
   "outputs": [
    {
     "name": "stderr",
     "output_type": "stream",
     "text": [
      "23/09/05 13:12:05 WARN SparkSession: Using an existing Spark session; only runtime SQL configurations will take effect.\n"
     ]
    },
    {
     "name": "stdout",
     "output_type": "stream",
     "text": [
      "Filtered Data Count: 648\n",
      "+-----+------+-----+-------------------+--------------------+--------------+--------+--------------------+---------+-----------------+------------------+----+------------------+\n",
      "|   Id|isSelf|Price|               Date|Fuel_station_manager|Petrol_company|    Type|        Station_name|     City|         Latitude|       Longitudine|Hour|     Total_Revenue|\n",
      "+-----+------+-----+-------------------+--------------------+--------------+--------+--------------------+---------+-----------------+------------------+----+------------------+\n",
      "|25614|     1|1.619|2022-03-10 00:36:30|SERVIZI & GESTION...|            Q8|Stradale|AGRIGENTO VIA FOS...|AGRIGENTO|37.29582883251122|13.547611503041026|   0|100.88299999999997|\n",
      "|50463|     1|1.619|2022-03-10 00:36:30|SERVIZI & GESTION...|            Q8|Stradale|VIA LEONARDO SCIA...|AGRIGENTO|37.27432157330476|13.614238371163946|   0|100.88299999999997|\n",
      "|28277|     1|1.609|2022-03-10 00:36:30|SERVIZI & GESTION...|            Q8|Stradale|QUADRIVIO SPINANS...|AGRIGENTO|37.31919829622775|13.581069525760311|   0|100.88299999999997|\n",
      "|28277|     1|1.739|2022-04-04 00:35:12|SERVIZI & GESTION...|            Q8|Stradale|QUADRIVIO SPINANS...|AGRIGENTO|37.31919829622775|13.581069525760311|   0|100.88299999999997|\n",
      "|25614|     1|1.774|2022-04-04 00:35:13|SERVIZI & GESTION...|            Q8|Stradale|AGRIGENTO VIA FOS...|AGRIGENTO|37.29582883251122|13.547611503041026|   0|100.88299999999997|\n",
      "|50463|     1|1.839|2022-04-04 00:35:13|SERVIZI & GESTION...|            Q8|Stradale|VIA LEONARDO SCIA...|AGRIGENTO|37.27432157330476|13.614238371163946|   0|100.88299999999997|\n",
      "|50463|     1|1.789|2022-04-25 00:35:05|SERVIZI & GESTION...|            Q8|Stradale|VIA LEONARDO SCIA...|AGRIGENTO|37.27432157330476|13.614238371163946|   0|100.88299999999997|\n",
      "|50463|     1|1.827|2022-05-16 00:38:14|SERVIZI & GESTION...|            Q8|Stradale|VIA LEONARDO SCIA...|AGRIGENTO|37.27432157330476|13.614238371163946|   0|100.88299999999997|\n",
      "|28277|     1|1.799|2022-05-16 00:38:14|SERVIZI & GESTION...|            Q8|Stradale|QUADRIVIO SPINANS...|AGRIGENTO|37.31919829622775|13.581069525760311|   0|100.88299999999997|\n",
      "|25614|     1|1.819|2022-05-16 00:38:15|SERVIZI & GESTION...|            Q8|Stradale|AGRIGENTO VIA FOS...|AGRIGENTO|37.29582883251122|13.547611503041026|   0|100.88299999999997|\n",
      "|50463|     1|1.879|2022-05-23 00:39:20|SERVIZI & GESTION...|            Q8|Stradale|VIA LEONARDO SCIA...|AGRIGENTO|37.27432157330476|13.614238371163946|   0|100.88299999999997|\n",
      "|28277|     1|1.879|2022-05-23 00:39:20|SERVIZI & GESTION...|            Q8|Stradale|QUADRIVIO SPINANS...|AGRIGENTO|37.31919829622775|13.581069525760311|   0|100.88299999999997|\n",
      "|25614|     1|1.859|2022-05-23 00:39:21|SERVIZI & GESTION...|            Q8|Stradale|AGRIGENTO VIA FOS...|AGRIGENTO|37.29582883251122|13.547611503041026|   0|100.88299999999997|\n",
      "|25614|     1|1.879|2022-05-30 00:36:13|SERVIZI & GESTION...|            Q8|Stradale|AGRIGENTO VIA FOS...|AGRIGENTO|37.29582883251122|13.547611503041026|   0|100.88299999999997|\n",
      "|28277|     1|1.897|2022-05-30 00:36:13|SERVIZI & GESTION...|            Q8|Stradale|QUADRIVIO SPINANS...|AGRIGENTO|37.31919829622775|13.581069525760311|   0|100.88299999999997|\n",
      "|50463|     1|2.079|2022-06-20 00:38:10|SERVIZI & GESTION...|            Q8|Stradale|VIA LEONARDO SCIA...|AGRIGENTO|37.27432157330476|13.614238371163946|   0|100.88299999999997|\n",
      "|25614|     1|2.079|2022-06-20 00:38:10|SERVIZI & GESTION...|            Q8|Stradale|AGRIGENTO VIA FOS...|AGRIGENTO|37.29582883251122|13.547611503041026|   0|100.88299999999997|\n",
      "|28277|     1|2.069|2022-06-20 00:38:10|SERVIZI & GESTION...|            Q8|Stradale|QUADRIVIO SPINANS...|AGRIGENTO|37.31919829622775|13.581069525760311|   0|100.88299999999997|\n",
      "|28277|     1|2.019|2022-06-27 00:37:14|SERVIZI & GESTION...|            Q8|Stradale|QUADRIVIO SPINANS...|AGRIGENTO|37.31919829622775|13.581069525760311|   0|100.88299999999997|\n",
      "|25614|     1|2.059|2022-06-27 00:37:14|SERVIZI & GESTION...|            Q8|Stradale|AGRIGENTO VIA FOS...|AGRIGENTO|37.29582883251122|13.547611503041026|   0|100.88299999999997|\n",
      "+-----+------+-----+-------------------+--------------------+--------------+--------+--------------------+---------+-----------------+------------------+----+------------------+\n",
      "only showing top 20 rows\n",
      "\n"
     ]
    }
   ],
   "source": [
    "from pyspark.sql.window import Window\n",
    "# Import necessary PySpark modules\n",
    "from pyspark.sql import SparkSession\n",
    "from pyspark.sql.functions import sum, hour\n",
    "import pyspark.sql.functions as F\n",
    "\n",
    "# Create a Spark session\n",
    "spark = SparkSession.builder.appName(\"Total Revenue\").getOrCreate()\n",
    "\n",
    "# Assuming the DataFrames are named 'hourly_gasoline_df' and 'fuel_station_info_df'\n",
    "\n",
    "# Merge the two datasets based on the common \"Id\" column\n",
    "merged_df = hourly_gasoline_df.join(fuel_station_info_df, on=\"Id\", how=\"inner\")\n",
    "\n",
    "# Extract the hour from the \"Date\" timestamp and add it as a new column \"Hour\"\n",
    "merged_df = merged_df.withColumn(\"Hour\", hour(merged_df[\"Date\"]))\n",
    "\n",
    "# Filter the data to include only self-service fuel stations in specific cities (Calcinate, Osio Sopra, Treviglio, Biella) and with Petrol_company Q8\n",
    "cities_to_include = [\"AGRIGENTO\", \"OSIO SOPRA\"]\n",
    "filtered_df = merged_df.filter((merged_df[\"isSelf\"] == 1) & (merged_df[\"City\"].isin(cities_to_include)) & (merged_df[\"Petrol_company\"] == \"Q8\"))\n",
    "\n",
    "print(\"Filtered Data Count:\", filtered_df.count())\n",
    "\n",
    "# Define a window specification to partition data by 'Petrol_company' and 'Hour'\n",
    "window_spec = Window.partitionBy('Petrol_company', 'Hour')\n",
    "\n",
    "# Calculate the total revenue for each group\n",
    "total_revenue_df = filtered_df.withColumn('Total_Revenue', sum('Price').over(window_spec))\n",
    "\n",
    "# Display the resulting DataFrame\n",
    "total_revenue_df.show()\n"
   ]
  },
  {
   "cell_type": "code",
   "execution_count": 108,
   "metadata": {},
   "outputs": [
    {
     "name": "stderr",
     "output_type": "stream",
     "text": [
      "                                                                                \r"
     ]
    },
    {
     "name": "stdout",
     "output_type": "stream",
     "text": [
      "+--------------+------------------+-------------------+\n",
      "|Prices        |Avg_Fluctuation   |City               |\n",
      "+--------------+------------------+-------------------+\n",
      "|[4.0, 1.669]  |1.5020909090909091|SAN DEMETRIO CORONE|\n",
      "|[4.0, 1.789]  |1.5020909090909091|SAN DEMETRIO CORONE|\n",
      "|[4.0, 1.699]  |1.5020909090909091|SAN DEMETRIO CORONE|\n",
      "|[4.0, 4.0]    |1.5020909090909091|SAN DEMETRIO CORONE|\n",
      "|[1.639, 1.639]|1.5020909090909091|SAN DEMETRIO CORONE|\n",
      "|[4.0, 1.659]  |1.5020909090909091|SAN DEMETRIO CORONE|\n",
      "|[1.955, 1.629]|1.5020909090909091|SAN DEMETRIO CORONE|\n",
      "|[4.0, 1.679]  |1.5020909090909091|SAN DEMETRIO CORONE|\n",
      "|[4.0, 1.639]  |1.5020909090909091|SAN DEMETRIO CORONE|\n",
      "|[4.0, 1.579]  |1.4498260869565216|TARANTO            |\n",
      "|[2.484, 1.589]|1.4498260869565216|TARANTO            |\n",
      "|[2.298, 1.565]|1.4498260869565216|TARANTO            |\n",
      "|[2.089, 1.645]|1.4498260869565216|TARANTO            |\n",
      "|[4.0, 1.559]  |1.4498260869565216|TARANTO            |\n",
      "|[2.497, 1.559]|1.4498260869565216|TARANTO            |\n",
      "|[2.399, 1.569]|1.4498260869565216|TARANTO            |\n",
      "|[2.484, 1.539]|1.4498260869565216|TARANTO            |\n",
      "|[2.174, 1.629]|1.4498260869565216|TARANTO            |\n",
      "|[2.417, 1.599]|1.4498260869565216|TARANTO            |\n",
      "|[2.089, 1.629]|1.4498260869565216|TARANTO            |\n",
      "+--------------+------------------+-------------------+\n",
      "only showing top 20 rows\n",
      "\n"
     ]
    }
   ],
   "source": [
    "from pyspark.sql.functions import from_utc_timestamp, hour, max, min, array\n",
    "\n",
    "# Assuming hourly_gasoline_df and fuel_station_info_df are your two DataFrames\n",
    "\n",
    "# Join the two DataFrames on the common key \"Id\"\n",
    "merged_df = hourly_gasoline_df.join(fuel_station_info_df, \"Id\", \"inner\")\n",
    "\n",
    "# Convert the timestamp to the specified timezone (America/New_York) and extract the hour\n",
    "hour_df = merged_df.withColumn(\"Hour\", hour(from_utc_timestamp(merged_df[\"Date\"], \"America/New_York\")))\n",
    "\n",
    "# Calculate hourly price fluctuations for each city\n",
    "price_fluctuations_df = hour_df.groupBy(\"City\", \"Hour\").agg((max(\"Price\") - min(\"Price\")).alias(\"Price_Fluctuation\"))\n",
    "\n",
    "# Calculate max and min prices separately\n",
    "max_prices_df = hour_df.groupBy(\"City\", \"Hour\").agg(max(\"Price\").alias(\"Max_Price\"))\n",
    "min_prices_df = hour_df.groupBy(\"City\", \"Hour\").agg(min(\"Price\").alias(\"Min_Price\"))\n",
    "\n",
    "# Join max and min prices together\n",
    "fluctuation_with_max_min_df = price_fluctuations_df.join(max_prices_df, [\"City\", \"Hour\"], \"inner\").join(min_prices_df, [\"City\", \"Hour\"], \"inner\")\n",
    "\n",
    "# Create an array column combining max and min prices\n",
    "price_array_df = fluctuation_with_max_min_df.withColumn(\"Prices\", array(\"Max_Price\", \"Min_Price\"))\n",
    "\n",
    "# Find the top 10 cities with the highest price fluctuations\n",
    "top_cities_fluctuations = price_array_df.groupBy(\"City\").agg(avg(\"Price_Fluctuation\").alias(\"Avg_Fluctuation\")).orderBy(\"Avg_Fluctuation\", ascending=False).limit(10)\n",
    "\n",
    "# Join the DataFrames on the \"City\" column\n",
    "result_df = top_cities_fluctuations.join(price_array_df, [\"City\"], \"inner\")\n",
    "\n",
    "# Select the desired columns and order by \"Avg_Fluctuation\" in descending order\n",
    "result_df = result_df.select(\"Prices\", \"Avg_Fluctuation\", \"City\").distinct().orderBy(result_df[\"Avg_Fluctuation\"].desc())\n",
    "\n",
    "# Show the result\n",
    "result_df.show(truncate=False)\n",
    "\n",
    "\n"
   ]
  },
  {
   "cell_type": "code",
   "execution_count": 94,
   "metadata": {},
   "outputs": [
    {
     "name": "stdout",
     "output_type": "stream",
     "text": [
      "root\n",
      " |-- Id: integer (nullable = true)\n",
      " |-- isSelf: integer (nullable = true)\n",
      " |-- Price: double (nullable = true)\n",
      " |-- Date: timestamp (nullable = true)\n",
      "\n"
     ]
    }
   ],
   "source": [
    "hourly_gasoline_df.printSchema()\n"
   ]
  },
  {
   "cell_type": "code",
   "execution_count": 95,
   "metadata": {},
   "outputs": [
    {
     "name": "stdout",
     "output_type": "stream",
     "text": [
      "root\n",
      " |-- Id: integer (nullable = true)\n",
      " |-- Fuel_station_manager: string (nullable = true)\n",
      " |-- Petrol_company: string (nullable = true)\n",
      " |-- Type: string (nullable = true)\n",
      " |-- Station_name: string (nullable = true)\n",
      " |-- City: string (nullable = true)\n",
      " |-- Latitude: string (nullable = true)\n",
      " |-- Longitudine: string (nullable = true)\n",
      "\n"
     ]
    }
   ],
   "source": [
    "fuel_station_info_df.printSchema()"
   ]
  },
  {
   "cell_type": "code",
   "execution_count": 96,
   "metadata": {},
   "outputs": [
    {
     "name": "stdout",
     "output_type": "stream",
     "text": [
      "+-----+------+-----+-------------------+--------------------+--------------+------------+------------+----------+-----------------+------------------+----+------------------+\n",
      "|   Id|isSelf|Price|               Date|Fuel_station_manager|Petrol_company|        Type|Station_name|      City|         Latitude|       Longitudine|Hour|  7_Hour_Avg_Price|\n",
      "+-----+------+-----+-------------------+--------------------+--------------+------------+------------+----------+-----------------+------------------+----+------------------+\n",
      "|49460|     1|2.319|2022-10-06 12:38:53|EOS SERVICES S.R....|            Q8|    Stradale|       AG023| AGRIGENTO|37.32612049037331|13.591820001602168|  12|2.0947142857142858|\n",
      "|25613|     1|1.839|2022-07-04 14:30:07| NUOVA SIDAP  S.R.L.|            Q8|Autostradale|  BREMBO SUD|OSIO SOPRA|45.63188736814508| 9.600096659217913|  14|2.0618571428571433|\n",
      "|25613|     1|2.099|2022-07-06 14:30:45| NUOVA SIDAP  S.R.L.|            Q8|Autostradale|  BREMBO SUD|OSIO SOPRA|45.63188736814508| 9.600096659217913|  14|2.0618571428571433|\n",
      "+-----+------+-----+-------------------+--------------------+--------------+------------+------------+----------+-----------------+------------------+----+------------------+\n",
      "\n"
     ]
    }
   ],
   "source": [
    "from pyspark.sql.window import Window\n",
    "import pyspark.sql.functions as F\n",
    "\n",
    "# Define the window specification for the rolling average\n",
    "rolling_window_spec = Window.partitionBy(\"City\").orderBy(\"Date\").rowsBetween(-6, 0)\n",
    "\n",
    "# Calculate the rolling 7-hour average price\n",
    "rolling_avg_price = filtered_df.withColumn(\"7_Hour_Avg_Price\", F.avg(\"Price\").over(rolling_window_spec))\n",
    "\n",
    "# Determine the row with the maximum 7-hour average price within each city\n",
    "max_avg_price_row = rolling_avg_price.withColumn(\"max_7_Hour_Avg_Price\", F.max(\"7_Hour_Avg_Price\").over(Window.partitionBy(\"City\")))\n",
    "result_df = max_avg_price_row.filter(F.col(\"7_Hour_Avg_Price\") == F.col(\"max_7_Hour_Avg_Price\")).drop(\"max_7_Hour_Avg_Price\")\n",
    "\n",
    "# Show the result\n",
    "result_df.show()\n"
   ]
  },
  {
   "cell_type": "markdown",
   "metadata": {},
   "source": [
    "Determine the month within this combination ('fuel station type' and 'city') that had the lowest number of hourly records.\n"
   ]
  },
  {
   "cell_type": "code",
   "execution_count": 97,
   "metadata": {},
   "outputs": [
    {
     "name": "stderr",
     "output_type": "stream",
     "text": [
      "23/09/05 13:12:08 WARN SparkSession: Using an existing Spark session; only runtime SQL configurations will take effect.\n"
     ]
    },
    {
     "name": "stdout",
     "output_type": "stream",
     "text": [
      "The date with the lowest price for 'Stradale' fuel stations in 'AGRIGENTO' is: 2022-01-04 12:56:17\n",
      "The lowest price for that month is: 1.608\n"
     ]
    }
   ],
   "source": [
    "from pyspark.sql import SparkSession\n",
    "from pyspark.sql.functions import col, year, month, min\n",
    "\n",
    "# Initialize a Spark session\n",
    "spark = SparkSession.builder.appName(\"LowestHourlyRecords\").getOrCreate()\n",
    "\n",
    "# Assuming 'gasoline_df' and 'fuel_station_df' are your DataFrames\n",
    "\n",
    "# Define the specific 'fuel station type' and 'city' you want to analyze\n",
    "selected_fuel_station_type = 'Stradale'\n",
    "selected_city = 'AGRIGENTO'  # Replace with the actual city name\n",
    "\n",
    "# Filter 'fuel_station_df' for the specific combination\n",
    "filtered_fuel_station_df = fuel_station_info_df.filter((col('Type') == selected_fuel_station_type) & (col('City') == selected_city))\n",
    "\n",
    "# Join 'filtered_fuel_station_df' with 'gasoline_df' on the 'Id' column\n",
    "joined_df = hourly_gasoline_df.join(filtered_fuel_station_df, on='Id', how='inner')\n",
    "\n",
    "# Extract the month from the 'Date' column\n",
    "joined_df = joined_df.withColumn('YearMonth', year(col('Date')) * 100 + month(col('Date')))\n",
    "\n",
    "# Group by 'YearMonth' and find the minimum timestamp and minimum price within each group\n",
    "min_date_price_per_month = joined_df.groupBy('YearMonth').agg(\n",
    "    min('Date').cast('timestamp').alias('LowestRecordTimestamp'),\n",
    "    min('Price').alias('LowestPrice')\n",
    ")\n",
    "\n",
    "# Find the month with the minimum timestamp and its corresponding lowest price\n",
    "lowest_timestamp_month = min_date_price_per_month.orderBy('LowestRecordTimestamp').first()\n",
    "\n",
    "# Display the result (if a lowest timestamp month is found)\n",
    "if lowest_timestamp_month:\n",
    "    print(f\"The date with the lowest price for '{selected_fuel_station_type}' fuel stations in '{selected_city}' is: {lowest_timestamp_month['LowestRecordTimestamp']}\")\n",
    "    print(f\"The lowest price for that month is: {lowest_timestamp_month['LowestPrice']}\")\n",
    "else:\n",
    "    print(f\"No data found for '{selected_fuel_station_type}' fuel stations in '{selected_city}'.\")\n"
   ]
  },
  {
   "cell_type": "code",
   "execution_count": null,
   "metadata": {},
   "outputs": [],
   "source": []
  }
 ],
 "metadata": {
  "kernelspec": {
   "display_name": "Python 3",
   "language": "python",
   "name": "python3"
  },
  "language_info": {
   "codemirror_mode": {
    "name": "ipython",
    "version": 3
   },
   "file_extension": ".py",
   "mimetype": "text/x-python",
   "name": "python",
   "nbconvert_exporter": "python",
   "pygments_lexer": "ipython3",
   "version": "3.10.12"
  },
  "orig_nbformat": 4
 },
 "nbformat": 4,
 "nbformat_minor": 2
}
